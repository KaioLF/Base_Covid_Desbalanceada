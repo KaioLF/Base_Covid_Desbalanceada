{
 "cells": [
  {
   "cell_type": "code",
   "execution_count": 4,
   "metadata": {},
   "outputs": [],
   "source": [
    "import pandas as pd\n",
    "import numpy as np\n",
    "from sklearn.preprocessing import StandardScaler\n",
    "from sklearn.feature_selection import SelectKBest, f_classif\n",
    "from imblearn.over_sampling import SMOTE\n",
    "from imblearn.pipeline import Pipeline\n",
    "from sklearn.model_selection import train_test_split\n",
    "from sklearn.tree import DecisionTreeClassifier\n",
    "from sklearn.metrics import classification_report, confusion_matrix, f1_score"
   ]
  },
  {
   "cell_type": "code",
   "execution_count": 5,
   "metadata": {},
   "outputs": [
    {
     "name": "stdout",
     "output_type": "stream",
     "text": [
      "Index(['attribute1', 'attribute2', 'attribute3', 'attribute4', 'attribute5',\n",
      "       'attribute6', 'attribute7', 'attribute8', 'attribute9', 'attribute10',\n",
      "       'attribute11', 'attribute12', 'attribute13', 'attribute14',\n",
      "       'attribute15', 'attribute16', 'attribute17', 'attribute18',\n",
      "       'attribute19', 'attribute20', 'attribute21', 'attribute22',\n",
      "       'attribute23', 'attribute24', 'attribute25', 'attribute26',\n",
      "       'attribute27', 'attribute28', 'attribute29', 'attribute30',\n",
      "       'attribute31', 'attribute32', 'attribute33', 'attribute34',\n",
      "       'attribute35', 'attribute36', 'attribute37', 'attribute38',\n",
      "       'attribute39', 'attribute40', 'attribute41', 'attribute42',\n",
      "       'attribute43', 'attribute44', 'attribute45', 'attribute46',\n",
      "       'attribute47', 'attribute48', 'attribute49', 'attribute50',\n",
      "       'attribute51', 'attribute52', 'attribute53', 'attribute54',\n",
      "       'attribute55', 'attribute56', 'attribute57', 'attribute58',\n",
      "       'attribute59', 'class'],\n",
      "      dtype='object')\n",
      "Distribuição das classes em y_train:\n",
      " class\n",
      "R/Normal                                            238\n",
      "R/Pneumonia/Acellular/Viral/Coronavirus/COVID-19     23\n",
      "R/Pneumonia/Celullar/Bacterial/Streptococcus          3\n",
      "R/Pneumonia/Acellular/Viral/Coronavirus/MERS          3\n",
      "R/Pneumonia/Celullar/Fungus/Pneumocystis              2\n",
      "R/Pneumonia/Acellular/Viral/Coronavirus/SARS          2\n",
      "R/Pneumonia/Acellular/Viral/Varicella                 2\n",
      "Name: count, dtype: int64\n",
      "Matriz de confusão antes do balanceamento:\n",
      " [[238   0   0   0   0   0   0]\n",
      " [  0  23   0   0   0   0   0]\n",
      " [  0   0   3   0   0   0   0]\n",
      " [  0   0   0   2   0   0   0]\n",
      " [  0   0   0   0   2   0   0]\n",
      " [  0   0   0   0   0   3   0]\n",
      " [  0   0   0   0   0   0   2]]\n"
     ]
    }
   ],
   "source": [
    "df = pd.read_csv('/home/dev/Documentos/Teste/Trabalho_base_covid/covid-dataset.csv')\n",
    "\n",
    "print(df.columns)\n",
    "\n",
    "X = df.drop(columns=['class'])\n",
    "y = df['class']\n",
    "\n",
    "X_train, X_test, y_train, y_test = train_test_split(X, y, test_size=0.2, random_state=42)\n",
    "\n",
    "print(\"Distribuição das classes em y_train:\\n\", pd.Series(y_train).value_counts())\n",
    "\n",
    "model_before = DecisionTreeClassifier(random_state=42)\n",
    "model_before.fit(X_train, y_train)\n",
    "y_pred_before = model_before.predict(X_train)\n",
    "print(\"Matriz de confusão antes do balanceamento:\\n\", confusion_matrix(y_train, y_pred_before))"
   ]
  },
  {
   "cell_type": "code",
   "execution_count": 6,
   "metadata": {},
   "outputs": [
    {
     "name": "stdout",
     "output_type": "stream",
     "text": [
      "Número de amostras após balanceamento: 1666\n",
      "Distribuição das classes após balanceamento:\n",
      " class\n",
      "R/Normal                                            238\n",
      "R/Pneumonia/Celullar/Fungus/Pneumocystis            238\n",
      "R/Pneumonia/Acellular/Viral/Coronavirus/COVID-19    238\n",
      "R/Pneumonia/Celullar/Bacterial/Streptococcus        238\n",
      "R/Pneumonia/Acellular/Viral/Coronavirus/MERS        238\n",
      "R/Pneumonia/Acellular/Viral/Coronavirus/SARS        238\n",
      "R/Pneumonia/Acellular/Viral/Varicella               238\n",
      "Name: count, dtype: int64\n",
      "Matriz de confusão após o balanceamento:\n",
      " [[57  4  0  1  0]\n",
      " [ 0  3  1  0  0]\n",
      " [ 0  0  1  0  0]\n",
      " [ 0  0  0  1  0]\n",
      " [ 0  0  0  1  0]]\n",
      "                                                  precision    recall  f1-score   support\n",
      "\n",
      "                                        R/Normal       1.00      0.92      0.96        62\n",
      "R/Pneumonia/Acellular/Viral/Coronavirus/COVID-19       0.43      0.75      0.55         4\n",
      "    R/Pneumonia/Acellular/Viral/Coronavirus/SARS       0.50      1.00      0.67         1\n",
      "           R/Pneumonia/Acellular/Viral/Varicella       0.33      1.00      0.50         1\n",
      "        R/Pneumonia/Celullar/Fungus/Pneumocystis       0.00      0.00      0.00         1\n",
      "\n",
      "                                        accuracy                           0.90        69\n",
      "                                       macro avg       0.45      0.73      0.53        69\n",
      "                                    weighted avg       0.94      0.90      0.91        69\n",
      "\n",
      "F1 Score: 0.5340\n"
     ]
    },
    {
     "name": "stderr",
     "output_type": "stream",
     "text": [
      "/home/dev/Documentos/Teste/.venv/lib/python3.10/site-packages/sklearn/metrics/_classification.py:1531: UndefinedMetricWarning: Precision is ill-defined and being set to 0.0 in labels with no predicted samples. Use `zero_division` parameter to control this behavior.\n",
      "  _warn_prf(average, modifier, f\"{metric.capitalize()} is\", len(result))\n",
      "/home/dev/Documentos/Teste/.venv/lib/python3.10/site-packages/sklearn/metrics/_classification.py:1531: UndefinedMetricWarning: Precision is ill-defined and being set to 0.0 in labels with no predicted samples. Use `zero_division` parameter to control this behavior.\n",
      "  _warn_prf(average, modifier, f\"{metric.capitalize()} is\", len(result))\n",
      "/home/dev/Documentos/Teste/.venv/lib/python3.10/site-packages/sklearn/metrics/_classification.py:1531: UndefinedMetricWarning: Precision is ill-defined and being set to 0.0 in labels with no predicted samples. Use `zero_division` parameter to control this behavior.\n",
      "  _warn_prf(average, modifier, f\"{metric.capitalize()} is\", len(result))\n"
     ]
    }
   ],
   "source": [
    "pipeline = Pipeline(steps=[\n",
    "    ('scaler', StandardScaler()),\n",
    "    ('feature_selection', SelectKBest(score_func=f_classif, k=10)),\n",
    "    ('smote', SMOTE(k_neighbors=1, random_state=42))\n",
    "])\n",
    "\n",
    "X_res, y_res = pipeline.fit_resample(X_train, y_train)\n",
    "\n",
    "print(\"Número de amostras após balanceamento:\", len(y_res))\n",
    "print(\"Distribuição das classes após balanceamento:\\n\", pd.Series(y_res).value_counts())\n",
    "\n",
    "\n",
    "model = DecisionTreeClassifier(class_weight='balanced', random_state=42)\n",
    "model.fit(X_res, y_res)\n",
    "\n",
    "X_test_transformed = pipeline.named_steps['scaler'].transform(X_test)\n",
    "X_test_transformed = pipeline.named_steps['feature_selection'].transform(X_test_transformed)\n",
    "\n",
    "y_pred = model.predict(X_test_transformed)\n",
    "\n",
    "print(\"Matriz de confusão após o balanceamento:\\n\", confusion_matrix(y_test, y_pred))\n",
    "\n",
    "print(classification_report(y_test, y_pred))\n",
    "\n",
    "f1 = f1_score(y_test, y_pred, average='macro')\n",
    "print(f\"F1 Score: {f1:.4f}\")\n"
   ]
  }
 ],
 "metadata": {
  "kernelspec": {
   "display_name": ".venv",
   "language": "python",
   "name": "python3"
  },
  "language_info": {
   "codemirror_mode": {
    "name": "ipython",
    "version": 3
   },
   "file_extension": ".py",
   "mimetype": "text/x-python",
   "name": "python",
   "nbconvert_exporter": "python",
   "pygments_lexer": "ipython3",
   "version": "3.10.12"
  }
 },
 "nbformat": 4,
 "nbformat_minor": 2
}
